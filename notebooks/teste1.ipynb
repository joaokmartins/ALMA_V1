{
 "cells": [
  {
   "cell_type": "code",
   "execution_count": null,
   "id": "0266c35d",
   "metadata": {},
   "outputs": [
    {
     "ename": "SyntaxError",
     "evalue": "invalid syntax (3398950686.py, line 18)",
     "output_type": "error",
     "traceback": [
      "  \u001b[36mCell\u001b[39m\u001b[36m \u001b[39m\u001b[32mIn[25]\u001b[39m\u001b[32m, line 18\u001b[39m\n\u001b[31m    \u001b[39m\u001b[31msuper.__init__(self, w_q, w_k, w_v):\u001b[39m\n                                       ^\n\u001b[31mSyntaxError\u001b[39m\u001b[31m:\u001b[39m invalid syntax\n"
     ]
    }
   ],
   "source": [
    "import torch\n",
    "import torch.nn as nn\n",
    "\n",
    "inputs = torch.tensor(\n",
    "    [[0.1, 0.2, 0.3],\n",
    "    [0.2, 0.2, 0.2],\n",
    "    [0.3, 0.3, 0.3],\n",
    "    [0.4, 0.4, 0.4],\n",
    "    [0.5, 0.5, 0.5],\n",
    "    [0.6, 0.6, 0.6],]\n",
    "    )\n",
    "\n",
    "print(inputs)\n",
    "\n",
    "print(inputs.shape)\n",
    "\n",
    "class SimpleSelfAttention(nn.parameter):\n",
    "    super.__init__(self, w_q, w_k, w_v):\n",
    "    self.w_q = torch.nn.parameter(torch.rand(d_in, d_out))\n",
    "    self.w_k = torch.nn.parameter(torch.rand(d_in, d_out))\n",
    "    self.w_v = torch.nn.parameter(torch.rand(d_in, d_out))\n",
    "\n",
    "    def forward(arg):\n",
    "        query = w_q @ inputs\n",
    "        values = w_k @ inputs\n",
    "        context_vec = query / d_k ** 0.5\n",
    "\n",
    "    \n"
   ]
  },
  {
   "cell_type": "code",
   "execution_count": null,
   "id": "65679486",
   "metadata": {},
   "outputs": [],
   "source": []
  }
 ],
 "metadata": {
  "kernelspec": {
   "display_name": "venv",
   "language": "python",
   "name": "python3"
  },
  "language_info": {
   "codemirror_mode": {
    "name": "ipython",
    "version": 3
   },
   "file_extension": ".py",
   "mimetype": "text/x-python",
   "name": "python",
   "nbconvert_exporter": "python",
   "pygments_lexer": "ipython3",
   "version": "3.12.0"
  }
 },
 "nbformat": 4,
 "nbformat_minor": 5
}
